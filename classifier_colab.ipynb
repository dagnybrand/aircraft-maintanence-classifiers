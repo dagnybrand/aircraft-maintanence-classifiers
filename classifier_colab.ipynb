{
  "cells": [
    {
      "cell_type": "markdown",
      "metadata": {
        "id": "view-in-github",
        "colab_type": "text"
      },
      "source": [
        "<a href=\"https://colab.research.google.com/github/AnthonyTsiantis/Boeing-Innovation-Group1/blob/main/classifier_colab.ipynb\" target=\"_parent\"><img src=\"https://colab.research.google.com/assets/colab-badge.svg\" alt=\"Open In Colab\"/></a>"
      ]
    },
    {
      "cell_type": "code",
      "execution_count": 2,
      "metadata": {
        "id": "hQtDkmCT0kqx"
      },
      "outputs": [],
      "source": [
        "import sklearn\n",
        "import sklearn.model_selection\n",
        "import sklearn.svm\n",
        "import tensorflow as tf\n",
        "import tensorflow_hub as hub\n",
        "import numpy as np\n",
        "import tqdm\n",
        "import os\n",
        "import pandas as pd\n",
        "import joblib"
      ]
    },
    {
      "cell_type": "markdown",
      "source": [
        "# Load Data (files need to be uploaded to colab first)"
      ],
      "metadata": {
        "id": "feCHprU7cF4g"
      }
    },
    {
      "cell_type": "code",
      "execution_count": 6,
      "metadata": {
        "colab": {
          "base_uri": "https://localhost:8080/"
        },
        "id": "2Icgkdm21_6t",
        "outputId": "ef019a7a-82e8-42c8-aa88-b38f0854be52"
      },
      "outputs": [
        {
          "output_type": "stream",
          "name": "stdout",
          "text": [
            "        rcvd_date_time buserno    wuc          emt m3_hrs m5_hrs wp_hrs  \\\n",
            "1      1/28/2023 14:06  538005  11101  0.983333333      0      0      0   \n",
            "2      1/28/2023 14:06  538000  11101  1.383333333    0.5      2      0   \n",
            "3      1/28/2023 14:08  538000  11201  1.166666667   0.25      2      0   \n",
            "4      1/28/2023 14:12  538003  11201  1.416666667      0      0      0   \n",
            "5      1/28/2023 14:13  538004  11201          1.2      0      2      0   \n",
            "...                ...     ...    ...          ...    ...    ...    ...   \n",
            "9996   9/30/2023 21:54  538009  11102          0.6      1      0      0   \n",
            "9997   9/30/2023 21:56  538006  12320          0.8      0      0      0   \n",
            "9998   9/30/2023 21:56  538004  11202         1.35      0      2      0   \n",
            "9999   9/30/2023 21:59  538001  12320  2.166666667      0      0      0   \n",
            "10000  9/30/2023 21:59  538006  11201         0.55      1      0      0   \n",
            "\n",
            "      in_work_date_time       m4_hrs   comp_date_time  ... type_maint_code  \\\n",
            "1       1/28/2023 14:12            0  1/28/2023 15:11  ...               Y   \n",
            "2       1/28/2023 14:15            0  1/28/2023 18:08  ...               Y   \n",
            "3       1/28/2023 14:15            0  1/28/2023 17:40  ...               X   \n",
            "4       1/28/2023 14:20            0  1/28/2023 15:45  ...               X   \n",
            "5       1/28/2023 14:20            0  1/28/2023 17:32  ...               X   \n",
            "...                 ...          ...              ...  ...             ...   \n",
            "9996     10/1/2023 8:00  10.03388889   10/1/2023 9:36  ...               Y   \n",
            "9997     10/1/2023 8:00  9.985555556   10/1/2023 8:48  ...               W   \n",
            "9998     10/1/2023 8:00  9.924722222  10/1/2023 11:21  ...               X   \n",
            "9999     10/1/2023 8:00  9.796944444  10/1/2023 10:10  ...               W   \n",
            "10000    10/1/2023 8:00  9.952222222   10/1/2023 9:33  ...               X   \n",
            "\n",
            "      malfunction_code rmvd_partno rmvd_equip_serno inst_partno  \\\n",
            "1                  A29         NaN              NaN         NaN   \n",
            "2                  A29         NaN              NaN         NaN   \n",
            "3                  A35         NaN              NaN         NaN   \n",
            "4                  A35         NaN              NaN         NaN   \n",
            "5                  A35         NaN              NaN         NaN   \n",
            "...                ...         ...              ...         ...   \n",
            "9996               A29         NaN              NaN         NaN   \n",
            "9997               C82         NaN              NaN         NaN   \n",
            "9998               A35         NaN              NaN         NaN   \n",
            "9999               C82         NaN              NaN         NaN   \n",
            "10000              A35         NaN              NaN         NaN   \n",
            "\n",
            "      inst_equip_serno                                        corr_action  \\\n",
            "1                  NaN           PERFORMED REQUIRED PRE-FLIGHT INSPECTION   \n",
            "2                  NaN           PERFORMED REQUIRED PRE-FLIGHT INSPECTION   \n",
            "3                  NaN  PERFORMED REQUIRED INSPECTION ON MAINTENANCE WORK   \n",
            "4                  NaN  PERFORMED REQUIRED INSPECTION ON MAINTENANCE WORK   \n",
            "5                  NaN  PERFORMED REQUIRED INSPECTION ON MAINTENANCE WORK   \n",
            "...                ...                                                ...   \n",
            "9996               NaN          PERFORMED REQUIRED POST-FLIGHT INSPECTION   \n",
            "9997               NaN                                    WASHED AIRCRAFT   \n",
            "9998               NaN         PERFORMED REQUIRED HARD-LANDING INSPECTION   \n",
            "9999               NaN                                    WASHED AIRCRAFT   \n",
            "10000              NaN  PERFORMED REQUIRED INSPECTION ON MAINTENANCE WORK   \n",
            "\n",
            "                                       descrep_narrative  \\\n",
            "1      PERFORM PRE-FLIGHT INSPECTION AS REQUIRED BY O...   \n",
            "2      PERFORM PRE-FLIGHT INSPECTION AS REQUIRED BY O...   \n",
            "3      INSPECTION OF WORK DONE REQUIRED BY OFFICIAL P...   \n",
            "4      INSPECTION OF WORK DONE REQUIRED BY OFFICIAL P...   \n",
            "5      INSPECTION OF WORK DONE REQUIRED BY OFFICIAL P...   \n",
            "...                                                  ...   \n",
            "9996   PERFORM POST-FLIGHT INSPECTION AS REQUIRED BY ...   \n",
            "9997                    WASH AIRCRAFT OF DIRT AND DEBRIS   \n",
            "9998   PERFORMED HARD-LANDING INSPECTION ACCORDING TO...   \n",
            "9999                    WASH AIRCRAFT OF DIRT AND DEBRIS   \n",
            "10000  INSPECTION OF WORK DONE REQUIRED BY OFFICIAL P...   \n",
            "\n",
            "            system_reason_desc  \\\n",
            "1        PRE-FLIGHT INSPECTION   \n",
            "2        PRE-FLIGHT INSPECTION   \n",
            "3              WORK INSPECTION   \n",
            "4              WORK INSPECTION   \n",
            "5              WORK INSPECTION   \n",
            "...                        ...   \n",
            "9996    POST-FLIGHT INSPECTION   \n",
            "9997             AIRCRAFT WASH   \n",
            "9998   HARD LANDING INSPECTION   \n",
            "9999             AIRCRAFT WASH   \n",
            "10000          WORK INSPECTION   \n",
            "\n",
            "                                                      id  \n",
            "1      2023-01-28 14:06:16_538005_NKL245434_748YRA1_E...  \n",
            "2      2023-01-28 14:06:53_538000_WTI327432_438EEJN_D...  \n",
            "3      2023-01-28 14:08:15_538000_UCJ924340_602PFR3_C...  \n",
            "4      2023-01-28 14:12:22_538003_VSZ719942_242INHX_W...  \n",
            "5      2023-01-28 14:13:09_538004_CFX757115_677OENU_W...  \n",
            "...                                                  ...  \n",
            "9996   2023-09-30 21:54:22_538009_ZZU732778_580GFLB_D...  \n",
            "9997   2023-09-30 21:56:04_538006_UTR692776_142BETB_D...  \n",
            "9998   2023-09-30 21:56:25_538004_KGY065701_486JNCR_E...  \n",
            "9999   2023-09-30 21:59:11_538001_LKT894588_775YMHL_W...  \n",
            "10000  2023-09-30 21:59:34_538006_CUM381272_668CRLB_W...  \n",
            "\n",
            "[90000 rows x 38 columns]\n"
          ]
        }
      ],
      "source": [
        "def get_df(datapath):\n",
        "      frames = []\n",
        "      df = pd.read_csv(f'{datapath}/Notre Dame Project Data - 1 of 10.csv', header=None)\n",
        "      headers = df.iloc[0].tolist()\n",
        "      df = df.drop(0)\n",
        "      for file in [f'{datapath}/Notre Dame Project Data - {i} of 10.csv' for i in range(2, 11)]:\n",
        "          df = pd.read_csv(file, header=None)\n",
        "          df = df.drop(index=0)\n",
        "          frames.append(df)\n",
        "      dataset = pd.concat(frames)\n",
        "      dataset.columns = headers\n",
        "      return dataset\n",
        "\n",
        "dataset = get_df('.')\n",
        "\n",
        "# wuc seems to be like an ID number\n",
        "print(dataset)"
      ]
    },
    {
      "cell_type": "markdown",
      "source": [
        "# Text Embedding"
      ],
      "metadata": {
        "id": "BsCraO4GcOTW"
      }
    },
    {
      "cell_type": "code",
      "execution_count": null,
      "metadata": {
        "colab": {
          "base_uri": "https://localhost:8080/"
        },
        "id": "56ldZOGT1xyv",
        "outputId": "42f6216e-f808-42e9-e74d-b482f103abef"
      },
      "outputs": [
        {
          "name": "stdout",
          "output_type": "stream",
          "text": [
            "module https://tfhub.dev/google/universal-sentence-encoder/4 loaded\n"
          ]
        }
      ],
      "source": [
        "module_url = \"https://tfhub.dev/google/universal-sentence-encoder/4\"\n",
        "model = hub.load(module_url)\n",
        "print (\"module %s loaded\" % module_url)"
      ]
    },
    {
      "cell_type": "code",
      "execution_count": null,
      "metadata": {
        "id": "_E0kGhKz16DF"
      },
      "outputs": [],
      "source": [
        "em_corr_action = model(dataset['corr_action'])\n",
        "em_descrep_narrative = model(dataset['descrep_narrative'])\n",
        "em_system_reason_desc = model(dataset['system_reason_desc'])"
      ]
    },
    {
      "cell_type": "code",
      "execution_count": null,
      "metadata": {
        "id": "3EYj9MNEUDQR"
      },
      "outputs": [],
      "source": [
        "# compile embedded vectors into data frame\n",
        "em_data = pd.DataFrame()\n",
        "\n",
        "em_data['corr_action'] = np.array(em_corr_action).tolist()\n",
        "em_data['descrep_narrative'] = np.array(em_descrep_narrative).tolist()\n",
        "em_data['system_reason_desc'] = np.array(em_system_reason_desc).tolist()"
      ]
    },
    {
      "cell_type": "markdown",
      "source": [
        "# SVC Classifier - one input column"
      ],
      "metadata": {
        "id": "dZ2y4XcvdcUO"
      }
    },
    {
      "cell_type": "code",
      "execution_count": null,
      "metadata": {
        "id": "_0nRJzhg07in"
      },
      "outputs": [],
      "source": [
        "# testing and training on descrep_narrative data\n",
        "# np.array() and .tolist() are used to tranform the encoder's output data from a tensor to a list\n",
        "input_data = np.array(em_data['descrep_narrative']).tolist()\n",
        "\n",
        "\n",
        "# classifier for column C\n",
        "output_data = dataset[\"wuc\"].copy()\n",
        "\n",
        "X_train, X_test, y_train, y_test = sklearn.model_selection.train_test_split(input_data, output_data, test_size = 0.3, random_state=42)\n"
      ]
    },
    {
      "cell_type": "code",
      "execution_count": null,
      "metadata": {
        "colab": {
          "base_uri": "https://localhost:8080/"
        },
        "id": "ZMhWVDNz1Dra",
        "outputId": "a75b875a-2206-4929-a0b9-ee6bb53ff14d"
      },
      "outputs": [
        {
          "name": "stdout",
          "output_type": "stream",
          "text": [
            "96.35000000000001%\n"
          ]
        }
      ],
      "source": [
        "svc = sklearn.svm.SVC(random_state=42)\n",
        "\n",
        "# train SVC model\n",
        "svc.fit(X_train, y_train)\n",
        "\n",
        "# test accuracy on SVC model\n",
        "accuracy = svc.score(X_test, y_test)\n",
        "print(f\"{accuracy * 100}%\")"
      ]
    },
    {
      "cell_type": "markdown",
      "source": [
        "# SVC Classifier - all input columns"
      ],
      "metadata": {
        "id": "7ve4Nn7jdhYd"
      }
    },
    {
      "cell_type": "code",
      "execution_count": null,
      "metadata": {
        "id": "dYLREttjTgAx"
      },
      "outputs": [],
      "source": [
        "# include all input data vectors in one data frame\n",
        "em_df_exp = pd.DataFrame()\n",
        "\n",
        "count = 0\n",
        "\n",
        "import warnings\n",
        "warnings.filterwarnings(\"ignore\", message=\"DataFrame is highly fragmented.\")\n",
        "\n",
        "# expand data frame so each coefficient of input vector for each category has a column\n",
        "for col in em_data.columns:\n",
        "  data = {}\n",
        "  for item in em_data[col]:\n",
        "    count = 0\n",
        "    for element in item:\n",
        "      if count in data:\n",
        "        data[count].append(element)\n",
        "      else:\n",
        "        data[count] = [element]\n",
        "      count += 1\n",
        "\n",
        "  for key in data:\n",
        "    em_df_exp[f'{col}{key}'] = data[key].copy()"
      ]
    },
    {
      "cell_type": "code",
      "execution_count": null,
      "metadata": {
        "colab": {
          "base_uri": "https://localhost:8080/"
        },
        "id": "KD-SLx7pVuLJ",
        "outputId": "244b6f25-6300-4527-e8fa-108f478f6b01"
      },
      "outputs": [
        {
          "name": "stdout",
          "output_type": "stream",
          "text": [
            "       corr_action0  corr_action1  corr_action2  corr_action3  corr_action4  \\\n",
            "0         -0.052226      0.040350      0.059663      0.001304      0.062923   \n",
            "1         -0.032559      0.032617      0.041037     -0.018566      0.060759   \n",
            "2         -0.053364     -0.004635     -0.000591      0.013635     -0.028621   \n",
            "3         -0.058994      0.026950      0.065375      0.030426      0.002120   \n",
            "4         -0.008827     -0.050849     -0.006769      0.073079      0.008362   \n",
            "...             ...           ...           ...           ...           ...   \n",
            "19995     -0.058243      0.044362      0.062634      0.012688      0.049500   \n",
            "19996     -0.032559      0.032617      0.041037     -0.018566      0.060759   \n",
            "19997     -0.052226      0.040350      0.059663      0.001304      0.062923   \n",
            "19998     -0.032559      0.032617      0.041037     -0.018566      0.060759   \n",
            "19999     -0.058994      0.026950      0.065375      0.030426      0.002120   \n",
            "\n",
            "       corr_action5  corr_action6  corr_action7  corr_action8  corr_action9  \\\n",
            "0         -0.053792      0.032922     -0.031942      0.017027     -0.040471   \n",
            "1          0.016164      0.020723     -0.011239     -0.039917      0.009302   \n",
            "2          0.047735      0.079705      0.073146      0.064353      0.014947   \n",
            "3         -0.049719     -0.004751     -0.056491     -0.006230     -0.035879   \n",
            "4          0.059455      0.042927     -0.010194      0.045638      0.076137   \n",
            "...             ...           ...           ...           ...           ...   \n",
            "19995     -0.055801      0.004945     -0.038782      0.022900     -0.065451   \n",
            "19996      0.016164      0.020723     -0.011239     -0.039917      0.009302   \n",
            "19997     -0.053792      0.032922     -0.031942      0.017027     -0.040471   \n",
            "19998      0.016164      0.020723     -0.011239     -0.039917      0.009302   \n",
            "19999     -0.049719     -0.004751     -0.056491     -0.006230     -0.035879   \n",
            "\n",
            "       ...  system_reason_desc502  system_reason_desc503  \\\n",
            "0      ...              -0.038924              -0.069517   \n",
            "1      ...               0.045303              -0.087835   \n",
            "2      ...               0.021981              -0.072373   \n",
            "3      ...              -0.043468              -0.087994   \n",
            "4      ...               0.049453              -0.076500   \n",
            "...    ...                    ...                    ...   \n",
            "19995  ...              -0.048912              -0.092695   \n",
            "19996  ...               0.045303              -0.087835   \n",
            "19997  ...              -0.038924              -0.069517   \n",
            "19998  ...               0.045303              -0.087835   \n",
            "19999  ...              -0.043468              -0.087994   \n",
            "\n",
            "       system_reason_desc504  system_reason_desc505  system_reason_desc506  \\\n",
            "0                   0.063227               0.065390              -0.037076   \n",
            "1                   0.063064               0.049845              -0.017557   \n",
            "2                  -0.054826              -0.054135               0.066728   \n",
            "3                   0.059993              -0.024718              -0.017220   \n",
            "4                   0.007846              -0.055741              -0.054582   \n",
            "...                      ...                    ...                    ...   \n",
            "19995               0.075953              -0.034607              -0.026056   \n",
            "19996               0.063064               0.049845              -0.017557   \n",
            "19997               0.063227               0.065390              -0.037076   \n",
            "19998               0.063064               0.049845              -0.017557   \n",
            "19999               0.059993              -0.024718              -0.017220   \n",
            "\n",
            "       system_reason_desc507  system_reason_desc508  system_reason_desc509  \\\n",
            "0                   0.030464              -0.054482               0.037896   \n",
            "1                  -0.025720              -0.019871              -0.043677   \n",
            "2                  -0.021806              -0.000033              -0.031946   \n",
            "3                   0.065428               0.024480              -0.043864   \n",
            "4                  -0.045948              -0.059361              -0.045493   \n",
            "...                      ...                    ...                    ...   \n",
            "19995               0.061366               0.008116              -0.040050   \n",
            "19996              -0.025720              -0.019871              -0.043677   \n",
            "19997               0.030464              -0.054482               0.037896   \n",
            "19998              -0.025720              -0.019871              -0.043677   \n",
            "19999               0.065428               0.024480              -0.043864   \n",
            "\n",
            "       system_reason_desc510  system_reason_desc511  \n",
            "0                  -0.041417              -0.007161  \n",
            "1                  -0.004894              -0.039990  \n",
            "2                   0.032681              -0.005613  \n",
            "3                  -0.043632               0.015827  \n",
            "4                   0.050480              -0.059535  \n",
            "...                      ...                    ...  \n",
            "19995              -0.020719              -0.006937  \n",
            "19996              -0.004894              -0.039990  \n",
            "19997              -0.041417              -0.007161  \n",
            "19998              -0.004894              -0.039990  \n",
            "19999              -0.043632               0.015827  \n",
            "\n",
            "[20000 rows x 1536 columns]\n"
          ]
        }
      ],
      "source": [
        "print(em_df_exp)"
      ]
    },
    {
      "cell_type": "code",
      "execution_count": null,
      "metadata": {
        "colab": {
          "base_uri": "https://localhost:8080/"
        },
        "id": "5spGQq9gV2WC",
        "outputId": "55399c5a-1c37-483d-9d8f-8044802c0195"
      },
      "outputs": [
        {
          "name": "stdout",
          "output_type": "stream",
          "text": [
            "100.0%\n",
            "[15781 14106 19128 ... 13223 13195 11101]\n",
            "650     15781\n",
            "2041    14106\n",
            "8668    19128\n",
            "1114    14889\n",
            "3902    11102\n",
            "        ...  \n",
            "4464    13284\n",
            "5656    13373\n",
            "9146    13223\n",
            "567     13195\n",
            "9165    11101\n",
            "Name: wuc, Length: 6000, dtype: int64\n"
          ]
        },
        {
          "data": {
            "text/plain": [
              "['svc_model.joblib']"
            ]
          },
          "execution_count": 62,
          "metadata": {},
          "output_type": "execute_result"
        }
      ],
      "source": [
        "# predict column C\n",
        "output_data = dataset[\"wuc\"].copy()\n",
        "\n",
        "X_train, X_test, y_train, y_test = sklearn.model_selection.train_test_split(em_df_exp, output_data, test_size = 0.3, random_state=42)\n",
        "\n",
        "svc = sklearn.svm.SVC(random_state=42)\n",
        "\n",
        "# train SVC model\n",
        "svc.fit(X_train, y_train)\n",
        "\n",
        "# test accuracy on SVC model\n",
        "accuracy = svc.score(X_test, y_test)\n",
        "print(f\"{accuracy * 100}%\")\n",
        "y_preds = svc.predict(X_test)\n",
        "print(y_preds)\n",
        "print(y_test)\n",
        "\"\"\" Save Model\n",
        "model_filename = 'svc_model.joblib'\n",
        "joblib.dump(svc, model_filename)\n",
        "\"\"\"\n",
        "# no way 100% accuracy"
      ]
    },
    {
      "cell_type": "code",
      "execution_count": null,
      "metadata": {
        "colab": {
          "base_uri": "https://localhost:8080/"
        },
        "id": "7t3OLCC8ZK8m",
        "outputId": "8bbb9521-e0ca-463e-cb75-a27856f7fc5a"
      },
      "outputs": [
        {
          "name": "stdout",
          "output_type": "stream",
          "text": [
            "100.0%\n",
            "       corr_action0  corr_action1  corr_action2  corr_action3  corr_action4  \\\n",
            "10650      0.038025      0.057936      0.063646     -0.036382      0.043500   \n",
            "2041      -0.008594     -0.038299     -0.032309      0.075363      0.003945   \n",
            "\n",
            "       corr_action5  corr_action6  corr_action7  corr_action8  corr_action9  \\\n",
            "10650     -0.057363      0.044513     -0.031037      0.053092      0.046949   \n",
            "2041       0.063114      0.018948     -0.029736      0.059906      0.076808   \n",
            "\n",
            "       ...  system_reason_desc502  system_reason_desc503  \\\n",
            "10650  ...               0.072607              -0.058618   \n",
            "2041   ...               0.049453              -0.076500   \n",
            "\n",
            "       system_reason_desc504  system_reason_desc505  system_reason_desc506  \\\n",
            "10650              -0.017408              -0.057954               0.079747   \n",
            "2041                0.007846              -0.055741              -0.054582   \n",
            "\n",
            "       system_reason_desc507  system_reason_desc508  system_reason_desc509  \\\n",
            "10650               0.044333              -0.020159              -0.018023   \n",
            "2041               -0.045948              -0.059361              -0.045493   \n",
            "\n",
            "       system_reason_desc510  system_reason_desc511  \n",
            "10650               0.012544              -0.014491  \n",
            "2041                0.050480              -0.059535  \n",
            "\n",
            "[2 rows x 1536 columns]\n",
            "['IZI' 'CQP']\n",
            "y_test: 650     IZI\n",
            "2041    CQP\n",
            "8668    EWK\n",
            "1114    CQP\n",
            "3902    ZWG\n",
            "       ... \n",
            "4464    GSW\n",
            "5656    GSW\n",
            "9146    GSW\n",
            "567     GSW\n",
            "9165    ZWG\n",
            "Name: wc_code, Length: 6000, dtype: object\n"
          ]
        },
        {
          "name": "stderr",
          "output_type": "stream",
          "text": [
            "/Library/Frameworks/Python.framework/Versions/3.11/lib/python3.11/site-packages/sklearn/base.py:464: UserWarning: X does not have valid feature names, but SVC was fitted with feature names\n",
            "  warnings.warn(\n"
          ]
        }
      ],
      "source": [
        "# predict column X\n",
        "output_data = dataset[\"wc_code\"].copy()\n",
        "\n",
        "X_train, X_test, y_train, y_test = sklearn.model_selection.train_test_split(em_df_exp, output_data, test_size = 0.3, random_state=42)\n",
        "\n",
        "svc = sklearn.svm.SVC(random_state=35)\n",
        "\n",
        "# train SVC model\n",
        "svc.fit(X_train, y_train)\n",
        "\n",
        "# test accuracy on SVC model\n",
        "accuracy = svc.score(X_test, y_test)\n",
        "print(f\"{accuracy * 100}%\")\n",
        "\n",
        "# no way 100% accuracy\n",
        "\n",
        "y_preds = svc.predict(X_test)\n",
        "print(X_test)\n",
        "print(y_preds)\n",
        "print(y_test)\n",
        "\"\"\"\n",
        "single_row_to_predict = X_test.iloc[0:2, :]\n",
        "print(single_row_to_predict)\n",
        "single_row_pred = svc.predict(single_row_to_predict.values.reshape(2, -1))\n",
        "print(single_row_pred)\n",
        "print(\"y_test:\",y_test)\n",
        "\"\"\""
      ]
    }
  ],
  "metadata": {
    "colab": {
      "provenance": [],
      "include_colab_link": true
    },
    "kernelspec": {
      "display_name": "Python 3",
      "name": "python3"
    },
    "language_info": {
      "codemirror_mode": {
        "name": "ipython",
        "version": 3
      },
      "file_extension": ".py",
      "mimetype": "text/x-python",
      "name": "python",
      "nbconvert_exporter": "python",
      "pygments_lexer": "ipython3",
      "version": "3.11.4"
    }
  },
  "nbformat": 4,
  "nbformat_minor": 0
}